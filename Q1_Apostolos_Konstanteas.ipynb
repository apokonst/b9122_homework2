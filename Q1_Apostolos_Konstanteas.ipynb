{
 "cells": [
  {
   "cell_type": "code",
   "execution_count": 14,
   "id": "59f5319f",
   "metadata": {},
   "outputs": [
    {
     "name": "stdout",
     "output_type": "stream",
     "text": [
      "Seed url: https://press.un.org/en\n",
      "Generated 10 text files with the HTML code of press releases with the word crisis\n"
     ]
    }
   ],
   "source": [
    "from bs4 import BeautifulSoup\n",
    "import urllib.request\n",
    "seed_url = \"https://press.un.org/en\"     #This is the starting web address\n",
    "word = \"crisis\"\n",
    "searching_tag = \"/en/press-release\"\n",
    "min_releases = 10\n",
    "counter = 0\n",
    "urls = [seed_url]    \n",
    "seen = [seed_url]\n",
    "release_list = []\n",
    "print(\"Seed url: \"+seed_url)\n",
    "while len(urls) > 0 and counter < min_releases:\n",
    "    try:\n",
    "        curr_url=urls.pop(0)\n",
    "        req = urllib.request.Request(curr_url,headers={'User-Agent': 'Mozilla/5.0'})\n",
    "        webpage = urllib.request.urlopen(req).read()\n",
    "    except:\n",
    "        continue    \n",
    "    soup = BeautifulSoup(webpage) \n",
    "    for tag in soup.find_all('a', href = True):\n",
    "        childUrl = tag['href']\n",
    "        if childUrl == searching_tag and word in soup.text:\n",
    "            counter += 1\n",
    "            release_list.append(curr_url)\n",
    "            if counter == min_releases: break\n",
    "        joinedUrl = urllib.parse.urljoin(seed_url, childUrl)\n",
    "        if seed_url in joinedUrl and joinedUrl not in seen:\n",
    "            urls.append(joinedUrl)\n",
    "            seen.append(joinedUrl)\n",
    "print (\"Generated %d text files with the HTML code of press releases with the word %s\" %(counter,word))\n",
    "for i in range(len(release_list)):\n",
    "    urllib.request.urlretrieve(release_list[i], \"1_\"+str(i+1)+\".txt\")"
   ]
  },
  {
   "cell_type": "code",
   "execution_count": null,
   "id": "2a5102a3",
   "metadata": {},
   "outputs": [],
   "source": []
  }
 ],
 "metadata": {
  "kernelspec": {
   "display_name": "Python 3 (ipykernel)",
   "language": "python",
   "name": "python3"
  },
  "language_info": {
   "codemirror_mode": {
    "name": "ipython",
    "version": 3
   },
   "file_extension": ".py",
   "mimetype": "text/x-python",
   "name": "python",
   "nbconvert_exporter": "python",
   "pygments_lexer": "ipython3",
   "version": "3.9.13"
  }
 },
 "nbformat": 4,
 "nbformat_minor": 5
}
